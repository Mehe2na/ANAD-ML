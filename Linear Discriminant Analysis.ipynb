{
 "cells": [
  {
   "cell_type": "code",
   "execution_count": 56,
   "metadata": {},
   "outputs": [],
   "source": [
    "import pandas as pd\n",
    "import numpy as np\n",
    "np.set_printoptions(precision=4)\n",
    "from matplotlib import pyplot as plt\n",
    "import seaborn as sns\n",
    "sns.set()\n",
    "from sklearn.preprocessing import LabelEncoder\n",
    "from sklearn.tree import DecisionTreeClassifier\n",
    "from sklearn.model_selection import train_test_split\n",
    "from sklearn.metrics import confusion_matrix\n"
   ]
  },
  {
   "cell_type": "code",
   "execution_count": 57,
   "metadata": {},
   "outputs": [],
   "source": [
    "dataset = pd.read_csv(\"dataChecked.csv\") \n",
    "dataset.head()\n",
    "X = dataset.iloc[:, 0:6]\n",
    "y = dataset.iloc[:, 6]\n",
    "X.shape\n",
    "X.head()\n",
    "donnes = { \"dataset\":dataset,\"target_names\": np.array(['y','n'])}"
   ]
  },
  {
   "cell_type": "code",
   "execution_count": 58,
   "metadata": {},
   "outputs": [
    {
     "data": {
      "text/plain": [
       "0    y\n",
       "1    y\n",
       "2    y\n",
       "3    y\n",
       "4    y\n",
       "Name: Genuine, dtype: object"
      ]
     },
     "execution_count": 58,
     "metadata": {},
     "output_type": "execute_result"
    }
   ],
   "source": [
    "y.head()"
   ]
  },
  {
   "cell_type": "code",
   "execution_count": 59,
   "metadata": {},
   "outputs": [
    {
     "data": {
      "text/html": [
       "<div>\n",
       "<style scoped>\n",
       "    .dataframe tbody tr th:only-of-type {\n",
       "        vertical-align: middle;\n",
       "    }\n",
       "\n",
       "    .dataframe tbody tr th {\n",
       "        vertical-align: top;\n",
       "    }\n",
       "\n",
       "    .dataframe thead th {\n",
       "        text-align: right;\n",
       "    }\n",
       "</style>\n",
       "<table border=\"1\" class=\"dataframe\">\n",
       "  <thead>\n",
       "    <tr style=\"text-align: right;\">\n",
       "      <th></th>\n",
       "      <th>Length</th>\n",
       "      <th>Height (left)</th>\n",
       "      <th>Height (right)</th>\n",
       "      <th>Inner Frame (lower)</th>\n",
       "      <th>Inner Frame (upper)</th>\n",
       "      <th>Diagonal</th>\n",
       "      <th>Genuine</th>\n",
       "    </tr>\n",
       "  </thead>\n",
       "  <tbody>\n",
       "    <tr>\n",
       "      <td>0</td>\n",
       "      <td>214.8</td>\n",
       "      <td>131.0</td>\n",
       "      <td>131.1</td>\n",
       "      <td>9.0</td>\n",
       "      <td>9.7</td>\n",
       "      <td>141.0</td>\n",
       "      <td>y</td>\n",
       "    </tr>\n",
       "    <tr>\n",
       "      <td>1</td>\n",
       "      <td>214.6</td>\n",
       "      <td>129.7</td>\n",
       "      <td>129.7</td>\n",
       "      <td>8.1</td>\n",
       "      <td>9.5</td>\n",
       "      <td>141.7</td>\n",
       "      <td>y</td>\n",
       "    </tr>\n",
       "    <tr>\n",
       "      <td>2</td>\n",
       "      <td>214.8</td>\n",
       "      <td>129.7</td>\n",
       "      <td>129.7</td>\n",
       "      <td>8.7</td>\n",
       "      <td>9.6</td>\n",
       "      <td>142.2</td>\n",
       "      <td>y</td>\n",
       "    </tr>\n",
       "    <tr>\n",
       "      <td>3</td>\n",
       "      <td>214.8</td>\n",
       "      <td>129.7</td>\n",
       "      <td>129.6</td>\n",
       "      <td>7.5</td>\n",
       "      <td>10.4</td>\n",
       "      <td>142.0</td>\n",
       "      <td>y</td>\n",
       "    </tr>\n",
       "    <tr>\n",
       "      <td>4</td>\n",
       "      <td>215.0</td>\n",
       "      <td>129.6</td>\n",
       "      <td>129.7</td>\n",
       "      <td>10.4</td>\n",
       "      <td>7.7</td>\n",
       "      <td>141.8</td>\n",
       "      <td>y</td>\n",
       "    </tr>\n",
       "  </tbody>\n",
       "</table>\n",
       "</div>"
      ],
      "text/plain": [
       "   Length  Height (left)  Height (right)  Inner Frame (lower)  \\\n",
       "0   214.8          131.0           131.1                  9.0   \n",
       "1   214.6          129.7           129.7                  8.1   \n",
       "2   214.8          129.7           129.7                  8.7   \n",
       "3   214.8          129.7           129.6                  7.5   \n",
       "4   215.0          129.6           129.7                 10.4   \n",
       "\n",
       "   Inner Frame (upper)  Diagonal Genuine  \n",
       "0                  9.7     141.0       y  \n",
       "1                  9.5     141.7       y  \n",
       "2                  9.6     142.2       y  \n",
       "3                 10.4     142.0       y  \n",
       "4                  7.7     141.8       y  "
      ]
     },
     "execution_count": 59,
     "metadata": {},
     "output_type": "execute_result"
    }
   ],
   "source": [
    "dataset.head()"
   ]
  },
  {
   "cell_type": "code",
   "execution_count": 60,
   "metadata": {},
   "outputs": [
    {
     "data": {
      "text/html": [
       "<div>\n",
       "<style scoped>\n",
       "    .dataframe tbody tr th:only-of-type {\n",
       "        vertical-align: middle;\n",
       "    }\n",
       "\n",
       "    .dataframe tbody tr th {\n",
       "        vertical-align: top;\n",
       "    }\n",
       "\n",
       "    .dataframe thead th {\n",
       "        text-align: right;\n",
       "    }\n",
       "</style>\n",
       "<table border=\"1\" class=\"dataframe\">\n",
       "  <thead>\n",
       "    <tr style=\"text-align: right;\">\n",
       "      <th></th>\n",
       "      <th>y</th>\n",
       "      <th>n</th>\n",
       "    </tr>\n",
       "  </thead>\n",
       "  <tbody>\n",
       "    <tr>\n",
       "      <td>Length</td>\n",
       "      <td>214.969</td>\n",
       "      <td>214.823</td>\n",
       "    </tr>\n",
       "    <tr>\n",
       "      <td>Height (left)</td>\n",
       "      <td>129.943</td>\n",
       "      <td>130.300</td>\n",
       "    </tr>\n",
       "    <tr>\n",
       "      <td>Height (right)</td>\n",
       "      <td>129.720</td>\n",
       "      <td>130.193</td>\n",
       "    </tr>\n",
       "    <tr>\n",
       "      <td>Inner Frame (lower)</td>\n",
       "      <td>8.305</td>\n",
       "      <td>10.530</td>\n",
       "    </tr>\n",
       "    <tr>\n",
       "      <td>Inner Frame (upper)</td>\n",
       "      <td>10.168</td>\n",
       "      <td>11.133</td>\n",
       "    </tr>\n",
       "    <tr>\n",
       "      <td>Diagonal</td>\n",
       "      <td>141.517</td>\n",
       "      <td>139.450</td>\n",
       "    </tr>\n",
       "  </tbody>\n",
       "</table>\n",
       "</div>"
      ],
      "text/plain": [
       "                           y        n\n",
       "Length               214.969  214.823\n",
       "Height (left)        129.943  130.300\n",
       "Height (right)       129.720  130.193\n",
       "Inner Frame (lower)    8.305   10.530\n",
       "Inner Frame (upper)   10.168   11.133\n",
       "Diagonal             141.517  139.450"
      ]
     },
     "execution_count": 60,
     "metadata": {},
     "output_type": "execute_result"
    }
   ],
   "source": [
    "df = X.join(pd.Series(y, name='Genuine'))\n",
    "class_feature_means = pd.DataFrame(columns=donnes[\"target_names\"])\n",
    "for c, rows in df.groupby('Genuine'):\n",
    "    class_feature_means[c] = rows.mean()\n",
    "class_feature_means"
   ]
  },
  {
   "cell_type": "code",
   "execution_count": 61,
   "metadata": {},
   "outputs": [
    {
     "name": "stdout",
     "output_type": "stream",
     "text": [
      "la variance expliquée par chaque composant  [1.]\n"
     ]
    }
   ],
   "source": [
    "from sklearn.discriminant_analysis import LinearDiscriminantAnalysis\n",
    "lda = LinearDiscriminantAnalysis()\n",
    "X_lda = lda.fit_transform(X, y)\n",
    "\n",
    "print(\"la variance expliquée par chaque composant \",lda.explained_variance_ratio_)\n"
   ]
  },
  {
   "cell_type": "code",
   "execution_count": 68,
   "metadata": {},
   "outputs": [
    {
     "data": {
      "text/plain": [
       "<matplotlib.collections.PathCollection at 0x28eda769bc8>"
      ]
     },
     "execution_count": 68,
     "metadata": {},
     "output_type": "execute_result"
    },
    {
     "data": {
      "image/png": "[encoded data removed]",
      "text/plain": [
       "<Figure size 432x288 with 1 Axes>"
      ]
     },
     "metadata": {},
     "output_type": "display_data"
    }
   ],
   "source": [
    "df = X.join(pd.Series(y, name='class'))\n",
    "le = LabelEncoder()\n",
    "y = le.fit_transform(df['class'])\n",
    "\n",
    "plt.xlabel('LD1')\n",
    "plt.scatter(\n",
    "    X_lda[:,0],\n",
    "    np.zeros(200),\n",
    "    c=y,\n",
    "    cmap='rainbow',\n",
    "    alpha=0.95,\n",
    "    edgecolors='b'\n",
    ")\n"
   ]
  },
  {
   "cell_type": "code",
   "execution_count": 63,
   "metadata": {},
   "outputs": [
    {
     "name": "stdout",
     "output_type": "stream",
     "text": [
      "la variance expliquée par chaque composant [0.6675 0.2082]\n"
     ]
    }
   ],
   "source": [
    "from sklearn.decomposition import PCA\n",
    "pca = PCA(n_components=2)\n",
    "X_pca = pca.fit_transform(X, y)\n",
    "print (\"la variance expliquée par chaque composant\",pca.explained_variance_ratio_)\n",
    "df = X.join(pd.Series(y, name='class'))\n",
    "le = LabelEncoder()\n",
    "y = le.fit_transform(df['class'])\n"
   ]
  },
  {
   "cell_type": "code",
   "execution_count": 64,
   "metadata": {},
   "outputs": [
    {
     "data": {
      "text/plain": [
       "<matplotlib.collections.PathCollection at 0x28eda650d88>"
      ]
     },
     "execution_count": 64,
     "metadata": {},
     "output_type": "execute_result"
    },
    {
     "data": {
      "image/png": "[encoded data removed]",
      "text/plain": [
       "<Figure size 432x288 with 1 Axes>"
      ]
     },
     "metadata": {},
     "output_type": "display_data"
    }
   ],
   "source": [
    "plt.xlabel ('PC1') \n",
    "plt.ylabel ('PC2') \n",
    "plt.scatter ( \n",
    "    X_pca [:, 0], \n",
    "    X_pca [:, 1], \n",
    "    c = y, \n",
    "    cmap = 'rainbow', \n",
    "    alpha = 0.7, \n",
    "    edgecolors = \"b\" \n",
    ")"
   ]
  },
  {
   "cell_type": "code",
   "execution_count": 65,
   "metadata": {},
   "outputs": [
    {
     "name": "stdout",
     "output_type": "stream",
     "text": [
      "l affectation de lelement 1 est  ['y']\n",
      "l affectation de lelement 2 est  ['n']\n",
      "l affectation de lelement 3 est  ['n']\n",
      "l affectation de lelement 4 est  ['y']\n"
     ]
    }
   ],
   "source": [
    "print('l affectation de lelement 1 est ',lda.predict([[215.1, 130.0, 129.8 ,9.1 ,10.2, 141.5 ]]))\n",
    "print('l affectation de lelement 2 est ',lda.predict([[214.7 ,130.7 ,130.8, 11.2 ,11.2, 139.4  ]]))\n",
    "print('l affectation de lelement 3 est ',lda.predict([[214.3, 129.9, 129.9 ,10.2, 11.5 ,139.6 ]]))\n",
    "print('l affectation de lelement 4 est ',lda.predict([[214.7 ,130.0 ,129.4 ,7.8, 10.0 ,141.2 ]]))"
   ]
  },
  {
   "cell_type": "code",
   "execution_count": 69,
   "metadata": {},
   "outputs": [
    {
     "data": {
      "text/plain": [
       "{'dataset':      Length  Height (left)  Height (right)  Inner Frame (lower)  \\\n",
       " 0     214.8          131.0           131.1                  9.0   \n",
       " 1     214.6          129.7           129.7                  8.1   \n",
       " 2     214.8          129.7           129.7                  8.7   \n",
       " 3     214.8          129.7           129.6                  7.5   \n",
       " 4     215.0          129.6           129.7                 10.4   \n",
       " ..      ...            ...             ...                  ...   \n",
       " 195   215.0          130.4           130.3                  9.9   \n",
       " 196   215.1          130.3           129.9                 10.3   \n",
       " 197   214.8          130.3           130.4                 10.6   \n",
       " 198   214.7          130.7           130.8                 11.2   \n",
       " 199   214.3          129.9           129.9                 10.2   \n",
       " \n",
       "      Inner Frame (upper)  Diagonal Genuine  \n",
       " 0                    9.7     141.0       y  \n",
       " 1                    9.5     141.7       y  \n",
       " 2                    9.6     142.2       y  \n",
       " 3                   10.4     142.0       y  \n",
       " 4                    7.7     141.8       y  \n",
       " ..                   ...       ...     ...  \n",
       " 195                 12.1     139.6       n  \n",
       " 196                 11.5     139.7       n  \n",
       " 197                 11.1     140.0       n  \n",
       " 198                 11.2     139.4       n  \n",
       " 199                 11.5     139.6       n  \n",
       " \n",
       " [200 rows x 7 columns], 'target_names': array(['y', 'n'], dtype='<U1')}"
      ]
     },
     "execution_count": 69,
     "metadata": {},
     "output_type": "execute_result"
    }
   ],
   "source": [
    "donnes"
   ]
  },
  {
   "cell_type": "code",
   "execution_count": 54,
   "metadata": {},
   "outputs": [
    {
     "data": {
      "text/plain": [
       "array(['y', 'n'], dtype='<U1')"
      ]
     },
     "execution_count": 54,
     "metadata": {},
     "output_type": "execute_result"
    }
   ],
   "source": [
    "donnes[\"target_names\"]"
   ]
  },
  {
   "cell_type": "code",
   "execution_count": null,
   "metadata": {},
   "outputs": [],
   "source": [
    "#TD"
   ]
  },
  {
   "cell_type": "code",
   "execution_count": 72,
   "metadata": {},
   "outputs": [],
   "source": [
    "E =np.zeros((3,3))\n",
    "E[0,0]=980\n",
    "E[0,1]=409\n",
    "E[0,2]=70\n",
    "E[1,0]=409\n",
    "E[1,1]=188\n",
    "E[1,2]=30\n",
    "E[2,0]=70\n",
    "E[2,1]=30\n",
    "E[2,2]=6"
   ]
  },
  {
   "cell_type": "code",
   "execution_count": 73,
   "metadata": {},
   "outputs": [],
   "source": [
    "A = np.linalg.inv(E)"
   ]
  },
  {
   "cell_type": "code",
   "execution_count": 74,
   "metadata": {},
   "outputs": [
    {
     "data": {
      "text/plain": [
       "array([[ 0.0139, -0.0216, -0.0544],\n",
       "       [-0.0216,  0.0599, -0.0471],\n",
       "       [-0.0544, -0.0471,  1.037 ]])"
      ]
     },
     "execution_count": 74,
     "metadata": {},
     "output_type": "execute_result"
    }
   ],
   "source": [
    "A"
   ]
  },
  {
   "cell_type": "code",
   "execution_count": 75,
   "metadata": {},
   "outputs": [
    {
     "data": {
      "text/plain": [
       "array([[ 1.0000e+00,  9.0206e-16,  1.8041e-16],\n",
       "       [-8.1463e-15,  1.0000e+00, -1.5266e-16],\n",
       "       [-5.3291e-15,  1.7764e-15,  1.0000e+00]])"
      ]
     },
     "execution_count": 75,
     "metadata": {},
     "output_type": "execute_result"
    }
   ],
   "source": [
    "Solution = np.dot(A,E)\n",
    "Solution"
   ]
  },
  {
   "cell_type": "code",
   "execution_count": 77,
   "metadata": {},
   "outputs": [
    {
     "data": {
      "text/plain": [
       "16353.999999999944"
      ]
     },
     "execution_count": 77,
     "metadata": {},
     "output_type": "execute_result"
    }
   ],
   "source": [
    "det = np.linalg.det(E)\n",
    "det"
   ]
  },
  {
   "cell_type": "code",
   "execution_count": 80,
   "metadata": {},
   "outputs": [
    {
     "data": {
      "text/plain": [
       "array([[1002],\n",
       "       [ 382],\n",
       "       [  72]])"
      ]
     },
     "execution_count": 80,
     "metadata": {},
     "output_type": "execute_result"
    }
   ],
   "source": [
    "vect = np.array([[1002],[382],[72]])\n",
    "vect"
   ]
  },
  {
   "cell_type": "code",
   "execution_count": 81,
   "metadata": {},
   "outputs": [
    {
     "data": {
      "text/plain": [
       "array([[ 1.7823],\n",
       "       [-2.1883],\n",
       "       [ 2.148 ]])"
      ]
     },
     "execution_count": 81,
     "metadata": {},
     "output_type": "execute_result"
    }
   ],
   "source": [
    "s1 = np.dot(A,vect)\n",
    "s1"
   ]
  },
  {
   "cell_type": "code",
   "execution_count": 97,
   "metadata": {},
   "outputs": [],
   "source": [
    "Z1 = np.array([10,5,7,19,11,18])\n",
    "Z2 = np.array([2,3,3,6,7,9])\n",
    "Y = np.array([15,9,3,25,7,13])\n",
    "Yichap = np.zeros((6))\n",
    "result = np.zeros(6)\n",
    "result1 = np.zeros(6)"
   ]
  },
  {
   "cell_type": "code",
   "execution_count": 99,
   "metadata": {},
   "outputs": [
    {
     "name": "stdout",
     "output_type": "stream",
     "text": [
      "15.588000000000001\n",
      "***********\n",
      "4.507999999999999\n",
      "***********\n",
      "8.068\n",
      "***********\n",
      "22.887999999999998\n",
      "***********\n",
      "6.468\n",
      "***********\n",
      "14.567999999999998\n",
      "***********\n",
      "[ 0.588 -4.492  5.068 -2.112 -0.532  1.568]\n",
      "[ 12.8737  56.1301  15.4606 118.5485  30.603    6.5946]\n"
     ]
    }
   ],
   "source": [
    "for c in range(0,6):\n",
    "    Yichap[c]=1.78 * Z1[c] - 2.18 * Z2[c] + 2.148\n",
    "    print(Yichap[c])\n",
    "    result1[c]=Yichap[c]-Y[c]\n",
    "    result[c] = (Yichap[c]-12) ** 2\n",
    "    print(\"***********\")\n",
    "print(result1)\n",
    "print(result)"
   ]
  },
  {
   "cell_type": "code",
   "execution_count": 104,
   "metadata": {},
   "outputs": [
    {
     "name": "stdout",
     "output_type": "stream",
     "text": [
      "14.496355233791952\n"
     ]
    }
   ],
   "source": [
    "for c in range(0,6):\n",
    "    summ = result[c] ** 2\n",
    "print(summ/3)"
   ]
  },
  {
   "cell_type": "code",
   "execution_count": 105,
   "metadata": {},
   "outputs": [
    {
     "name": "stdout",
     "output_type": "stream",
     "text": [
      "[[ 0.2022 -0.3139 -0.7891]\n",
      " [-0.3139  0.8689 -0.6827]\n",
      " [-0.7891 -0.6827 15.0364]]\n"
     ]
    }
   ],
   "source": [
    "print(A*14.5)"
   ]
  },
  {
   "cell_type": "code",
   "execution_count": 107,
   "metadata": {},
   "outputs": [
    {
     "data": {
      "text/plain": [
       "0.4472135954999579"
      ]
     },
     "execution_count": 107,
     "metadata": {},
     "output_type": "execute_result"
    }
   ],
   "source": [
    "0.2 ** (0.5)"
   ]
  },
  {
   "cell_type": "code",
   "execution_count": 108,
   "metadata": {},
   "outputs": [
    {
     "data": {
      "text/plain": [
       "3.9555555555555557"
      ]
     },
     "execution_count": 108,
     "metadata": {},
     "output_type": "execute_result"
    }
   ],
   "source": [
    "1.78/0.45"
   ]
  },
  {
   "cell_type": "code",
   "execution_count": null,
   "metadata": {},
   "outputs": [],
   "source": []
  }
 ],
 "metadata": {
  "kernelspec": {
   "display_name": "Python 3",
   "language": "python",
   "name": "python3"
  },
  "language_info": {
   "codemirror_mode": {
    "name": "ipython",
    "version": 3
   },
   "file_extension": ".py",
   "mimetype": "text/x-python",
   "name": "python",
   "nbconvert_exporter": "python",
   "pygments_lexer": "ipython3",
   "version": "3.7.4"
  }
 },
 "nbformat": 4,
 "nbformat_minor": 2
}
